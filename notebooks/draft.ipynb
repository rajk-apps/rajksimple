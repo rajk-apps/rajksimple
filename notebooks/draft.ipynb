{
 "cells": [
  {
   "cell_type": "markdown",
   "metadata": {},
   "source": [
    "## draft"
   ]
  },
  {
   "cell_type": "code",
   "execution_count": 1,
   "metadata": {},
   "outputs": [],
   "source": [
    "import toml"
   ]
  },
  {
   "cell_type": "code",
   "execution_count": 4,
   "metadata": {},
   "outputs": [],
   "source": [
    "pytom = toml.load('../pyproject.toml')"
   ]
  },
  {
   "cell_type": "code",
   "execution_count": 6,
   "metadata": {},
   "outputs": [
    {
     "data": {
      "text/plain": [
       "{'name': 'myproject',\n",
       " 'version': '0.1.0',\n",
       " 'description': 'Create a pyproject.toml file for an existing project.',\n",
       " 'authors': ['Martin Thoma <info@martin-thoma.de>'],\n",
       " 'license': 'MIT',\n",
       " 'readme': 'README.md',\n",
       " 'python': '^3.6',\n",
       " 'homepage': 'https://github.com/MartinThoma/infer_pyproject',\n",
       " 'repository': 'https://github.com/MartinThoma/infer_pyproject',\n",
       " 'documentation': 'https://github.com/MartinThoma/infer_pyproject',\n",
       " 'keywords': ['packaging', 'dependency', 'infer', 'pyproject.toml'],\n",
       " 'classifiers': ['Topic :: Software Development']}"
      ]
     },
     "execution_count": 6,
     "metadata": {},
     "output_type": "execute_result"
    }
   ],
   "source": [
    "pytom[\"project\"]"
   ]
  },
  {
   "cell_type": "code",
   "execution_count": 9,
   "metadata": {},
   "outputs": [
    {
     "data": {
      "text/plain": [
       "2019"
      ]
     },
     "execution_count": 9,
     "metadata": {},
     "output_type": "execute_result"
    }
   ],
   "source": [
    "import datetime\n",
    "datetime.datetime.now().year"
   ]
  },
  {
   "cell_type": "code",
   "execution_count": null,
   "metadata": {},
   "outputs": [],
   "source": []
  }
 ],
 "metadata": {
  "kernelspec": {
   "display_name": "Python 3",
   "language": "python",
   "name": "python3"
  },
  "language_info": {
   "codemirror_mode": {
    "name": "ipython",
    "version": 3
   },
   "file_extension": ".py",
   "mimetype": "text/x-python",
   "name": "python",
   "nbconvert_exporter": "python",
   "pygments_lexer": "ipython3",
   "version": "3.7.3"
  }
 },
 "nbformat": 4,
 "nbformat_minor": 2
}
